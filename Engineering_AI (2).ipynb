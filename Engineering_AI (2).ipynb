{
  "cells": [
    {
      "cell_type": "code",
      "execution_count": null,
      "metadata": {
        "colab": {
          "base_uri": "https://localhost:8080/"
        },
        "id": "SYsdbngv2gx4",
        "outputId": "05c54d95-58cf-4dc8-a49d-7f0a32ad4344"
      },
      "outputs": [
        {
          "name": "stdout",
          "output_type": "stream",
          "text": [
            "Collecting openai==0.28\n",
            "  Downloading openai-0.28.0-py3-none-any.whl.metadata (13 kB)\n",
            "Requirement already satisfied: requests>=2.20 in /usr/local/lib/python3.10/dist-packages (from openai==0.28) (2.32.3)\n",
            "Requirement already satisfied: tqdm in /usr/local/lib/python3.10/dist-packages (from openai==0.28) (4.66.5)\n",
            "Requirement already satisfied: aiohttp in /usr/local/lib/python3.10/dist-packages (from openai==0.28) (3.10.5)\n",
            "Requirement already satisfied: charset-normalizer<4,>=2 in /usr/local/lib/python3.10/dist-packages (from requests>=2.20->openai==0.28) (3.3.2)\n",
            "Requirement already satisfied: idna<4,>=2.5 in /usr/local/lib/python3.10/dist-packages (from requests>=2.20->openai==0.28) (3.10)\n",
            "Requirement already satisfied: urllib3<3,>=1.21.1 in /usr/local/lib/python3.10/dist-packages (from requests>=2.20->openai==0.28) (2.2.3)\n",
            "Requirement already satisfied: certifi>=2017.4.17 in /usr/local/lib/python3.10/dist-packages (from requests>=2.20->openai==0.28) (2024.8.30)\n",
            "Requirement already satisfied: aiohappyeyeballs>=2.3.0 in /usr/local/lib/python3.10/dist-packages (from aiohttp->openai==0.28) (2.4.0)\n",
            "Requirement already satisfied: aiosignal>=1.1.2 in /usr/local/lib/python3.10/dist-packages (from aiohttp->openai==0.28) (1.3.1)\n",
            "Requirement already satisfied: attrs>=17.3.0 in /usr/local/lib/python3.10/dist-packages (from aiohttp->openai==0.28) (24.2.0)\n",
            "Requirement already satisfied: frozenlist>=1.1.1 in /usr/local/lib/python3.10/dist-packages (from aiohttp->openai==0.28) (1.4.1)\n",
            "Requirement already satisfied: multidict<7.0,>=4.5 in /usr/local/lib/python3.10/dist-packages (from aiohttp->openai==0.28) (6.1.0)\n",
            "Requirement already satisfied: yarl<2.0,>=1.0 in /usr/local/lib/python3.10/dist-packages (from aiohttp->openai==0.28) (1.11.1)\n",
            "Requirement already satisfied: async-timeout<5.0,>=4.0 in /usr/local/lib/python3.10/dist-packages (from aiohttp->openai==0.28) (4.0.3)\n",
            "Requirement already satisfied: typing-extensions>=4.1.0 in /usr/local/lib/python3.10/dist-packages (from multidict<7.0,>=4.5->aiohttp->openai==0.28) (4.12.2)\n",
            "Downloading openai-0.28.0-py3-none-any.whl (76 kB)\n",
            "\u001b[2K   \u001b[90m━━━━━━━━━━━━━━━━━━━━━━━━━━━━━━━━━━━━━━━━\u001b[0m \u001b[32m76.5/76.5 kB\u001b[0m \u001b[31m1.7 MB/s\u001b[0m eta \u001b[36m0:00:00\u001b[0m\n",
            "\u001b[?25hInstalling collected packages: openai\n",
            "Successfully installed openai-0.28.0\n"
          ]
        }
      ],
      "source": [
        "!pip install openai==0.28"
      ]
    },
    {
      "cell_type": "code",
      "execution_count": null,
      "metadata": {
        "colab": {
          "base_uri": "https://localhost:8080/"
        },
        "id": "bYGC0cIvnXQF",
        "outputId": "751956a6-01a4-4617-e695-07db88b15cb9"
      },
      "outputs": [
        {
          "name": "stdout",
          "output_type": "stream",
          "text": [
            "Requirement already satisfied: transformers in /usr/local/lib/python3.10/dist-packages (4.44.2)\n",
            "Collecting sentence-transformers\n",
            "  Downloading sentence_transformers-3.1.1-py3-none-any.whl.metadata (10 kB)\n",
            "Requirement already satisfied: scikit-learn in /usr/local/lib/python3.10/dist-packages (1.5.2)\n",
            "Requirement already satisfied: filelock in /usr/local/lib/python3.10/dist-packages (from transformers) (3.16.1)\n",
            "Requirement already satisfied: huggingface-hub<1.0,>=0.23.2 in /usr/local/lib/python3.10/dist-packages (from transformers) (0.24.7)\n",
            "Requirement already satisfied: numpy>=1.17 in /usr/local/lib/python3.10/dist-packages (from transformers) (1.26.4)\n",
            "Requirement already satisfied: packaging>=20.0 in /usr/local/lib/python3.10/dist-packages (from transformers) (24.1)\n",
            "Requirement already satisfied: pyyaml>=5.1 in /usr/local/lib/python3.10/dist-packages (from transformers) (6.0.2)\n",
            "Requirement already satisfied: regex!=2019.12.17 in /usr/local/lib/python3.10/dist-packages (from transformers) (2024.9.11)\n",
            "Requirement already satisfied: requests in /usr/local/lib/python3.10/dist-packages (from transformers) (2.32.3)\n",
            "Requirement already satisfied: safetensors>=0.4.1 in /usr/local/lib/python3.10/dist-packages (from transformers) (0.4.5)\n",
            "Requirement already satisfied: tokenizers<0.20,>=0.19 in /usr/local/lib/python3.10/dist-packages (from transformers) (0.19.1)\n",
            "Requirement already satisfied: tqdm>=4.27 in /usr/local/lib/python3.10/dist-packages (from transformers) (4.66.5)\n",
            "Requirement already satisfied: torch>=1.11.0 in /usr/local/lib/python3.10/dist-packages (from sentence-transformers) (2.4.1+cu121)\n",
            "Requirement already satisfied: scipy in /usr/local/lib/python3.10/dist-packages (from sentence-transformers) (1.13.1)\n",
            "Requirement already satisfied: Pillow in /usr/local/lib/python3.10/dist-packages (from sentence-transformers) (10.4.0)\n",
            "Requirement already satisfied: joblib>=1.2.0 in /usr/local/lib/python3.10/dist-packages (from scikit-learn) (1.4.2)\n",
            "Requirement already satisfied: threadpoolctl>=3.1.0 in /usr/local/lib/python3.10/dist-packages (from scikit-learn) (3.5.0)\n",
            "Requirement already satisfied: fsspec>=2023.5.0 in /usr/local/lib/python3.10/dist-packages (from huggingface-hub<1.0,>=0.23.2->transformers) (2024.6.1)\n",
            "Requirement already satisfied: typing-extensions>=3.7.4.3 in /usr/local/lib/python3.10/dist-packages (from huggingface-hub<1.0,>=0.23.2->transformers) (4.12.2)\n",
            "Requirement already satisfied: sympy in /usr/local/lib/python3.10/dist-packages (from torch>=1.11.0->sentence-transformers) (1.13.3)\n",
            "Requirement already satisfied: networkx in /usr/local/lib/python3.10/dist-packages (from torch>=1.11.0->sentence-transformers) (3.3)\n",
            "Requirement already satisfied: jinja2 in /usr/local/lib/python3.10/dist-packages (from torch>=1.11.0->sentence-transformers) (3.1.4)\n",
            "Requirement already satisfied: charset-normalizer<4,>=2 in /usr/local/lib/python3.10/dist-packages (from requests->transformers) (3.3.2)\n",
            "Requirement already satisfied: idna<4,>=2.5 in /usr/local/lib/python3.10/dist-packages (from requests->transformers) (3.10)\n",
            "Requirement already satisfied: urllib3<3,>=1.21.1 in /usr/local/lib/python3.10/dist-packages (from requests->transformers) (2.2.3)\n",
            "Requirement already satisfied: certifi>=2017.4.17 in /usr/local/lib/python3.10/dist-packages (from requests->transformers) (2024.8.30)\n",
            "Requirement already satisfied: MarkupSafe>=2.0 in /usr/local/lib/python3.10/dist-packages (from jinja2->torch>=1.11.0->sentence-transformers) (2.1.5)\n",
            "Requirement already satisfied: mpmath<1.4,>=1.1.0 in /usr/local/lib/python3.10/dist-packages (from sympy->torch>=1.11.0->sentence-transformers) (1.3.0)\n",
            "Downloading sentence_transformers-3.1.1-py3-none-any.whl (245 kB)\n",
            "\u001b[2K   \u001b[90m━━━━━━━━━━━━━━━━━━━━━━━━━━━━━━━━━━━━━━━━\u001b[0m \u001b[32m245.3/245.3 kB\u001b[0m \u001b[31m3.8 MB/s\u001b[0m eta \u001b[36m0:00:00\u001b[0m\n",
            "\u001b[?25hInstalling collected packages: sentence-transformers\n",
            "Successfully installed sentence-transformers-3.1.1\n"
          ]
        }
      ],
      "source": [
        "pip install transformers sentence-transformers scikit-learn"
      ]
    },
    {
      "cell_type": "code",
      "execution_count": null,
      "metadata": {
        "id": "iqJZ9xp_ovKN"
      },
      "outputs": [],
      "source": [
        "from sentence_transformers import SentenceTransformer\n",
        "import json\n",
        "import re\n",
        "import numpy as np\n",
        "import os\n",
        "\n",
        "model = SentenceTransformer('sentence-transformers/all-MiniLM-L6-v2')\n",
        "\n",
        "def preprocess_text(text):\n",
        "    chunks = re.split(r\"(?=\\d{5})\", text.strip())\n",
        "    clean_chunks = [re.sub(r'\\n+', ' ', chunk.strip()) for chunk in chunks if chunk.strip()]\n",
        "    return clean_chunks\n",
        "\n",
        "def load_and_preprocess(filepath):\n",
        "    with open(filepath, 'r') as file:\n",
        "        text = file.read()\n",
        "    chunks = preprocess_text(text)\n",
        "    return chunks\n",
        "\n",
        "def convert_to_vectors(chunks):\n",
        "    vectors = model.encode(chunks)\n",
        "    return vectors\n",
        "\n",
        "def save_vectors_to_json(chunks, vectors, output_json):\n",
        "    data = [{'chunk': chunk, 'vector': vector.tolist()} for chunk, vector in zip(chunks, vectors)]\n",
        "    with open(output_json, 'w') as json_file:\n",
        "        json.dump(data, json_file)\n",
        "\n",
        "chunks = load_and_preprocess('/content/Engineering.txt')\n",
        "vectors = convert_to_vectors(chunks)\n",
        "\n",
        "save_vectors_to_json(chunks, vectors, 'college_data_vectors.json')\n"
      ]
    },
    {
      "cell_type": "code",
      "execution_count": null,
      "metadata": {
        "id": "IVb-uGM7o2oH"
      },
      "outputs": [],
      "source": [
        "from sklearn.metrics.pairwise import cosine_similarity\n",
        "\n",
        "def load_vectors_from_json(input_json):\n",
        "    with open(input_json, 'r') as json_file:\n",
        "        data = json.load(json_file)\n",
        "    chunks = [item['chunk'] for item in data]\n",
        "    vectors = [np.array(item['vector']) for item in data]\n",
        "    return chunks, np.array(vectors)\n",
        "\n",
        "# Find the most similar chunk\n",
        "def find_similar_chunk(query, chunks, vectors, top_n=5):\n",
        "    # Convert the query to a vector\n",
        "    query_vector = model.encode([query])[0]\n",
        "\n",
        "    # Calculate cosine similarity between the query vector and all text vectors\n",
        "    similarities = cosine_similarity([query_vector], vectors)[0]\n",
        "\n",
        "    # Get the indices of the top N most similar chunks\n",
        "    top_indices = similarities.argsort()[-top_n:][::-1]\n",
        "\n",
        "    # Return the most similar chunks\n",
        "    similar_chunks = [(chunks[i], similarities[i]) for i in top_indices]\n",
        "    return similar_chunks\n",
        "\n",
        "chunks, vectors = load_vectors_from_json('college_data_vectors.json')"
      ]
    },
    {
      "cell_type": "code",
      "execution_count": null,
      "metadata": {
        "id": "ZRLWyYxctyr2"
      },
      "outputs": [],
      "source": [
        "os.environ[\"OPENAI_API_KEY\"] = \"api-key\""
      ]
    },
    {
      "cell_type": "code",
      "execution_count": null,
      "metadata": {
        "colab": {
          "background_save": true,
          "base_uri": "https://localhost:8080/"
        },
        "id": "jWlcOx3pqEZc",
        "outputId": "9739ea94-a502-4d9b-a417-35a1477cf2fb"
      },
      "outputs": [
        {
          "name": "stdout",
          "output_type": "stream",
          "text": [
            "Query: what is the college id of KONERU LAKSHMAIAH EDUCATION FOUNDATION  UNIVERSITY (K L COLLEGE OF ENGINEERING)\n",
            "\n",
            "The college id of KONERU LAKSHMAIAH EDUCATION FOUNDATION UNIVERSITY (K L COLLEGE OF ENGINEERING) is 31645.\n",
            "Query: state of the RAMACHANDRA COLLEGE OF ENGINEERING\n",
            "\n",
            "RAMACHANDRA COLLEGE OF ENGINEERING is located in the state of Andhra Pradesh.\n",
            "Query: Cource provided by BONAM VENKATACHALAMAYYA INSTITUTE OF  TECHNOLOGY & SCIENCE\n",
            "\n",
            "The courses provided by BONAM VENKATACHALAMAYYA INSTITUTE OF TECHNOLOGY & SCIENCE are:\n",
            "1. COMPUTER SCIENCE AND TECHNOLOGY\n",
            "2. ELECTRONICS & TECHNOLOGY\n",
            "3. MECHANICAL ENGINEERING TECHNOLOGY\n",
            "4. ELECTRICAL AND TECHNOLOGY\n",
            "Query: total number of Cources offered by BONAM VENKATACHALAMAYYA INSTITUTE OF  TECHNOLOGY & SCIENCE\n",
            "\n",
            "There are a total of 5 courses offered by BONAM VENKATACHALAMAYYA INSTITUTE OF TECHNOLOGY & SCIENCE. These courses are:\n",
            "1. COMPUTER SCIENCE AND TECHNOLOGY\n",
            "2. MECHANICAL ENGINEERING TECHNOLOGY\n",
            "3. ELECTRONICS & TECHNOLOGY\n",
            "4. ELECTRICAL AND TECHNOLOGY\n",
            "5. CIVIL ENGINEERING TECHNOLOGY\n",
            "Query: which University under come SRI VASAVI ENGINEERING COLLEGE\n",
            "\n",
            "Jawaharlal Nehru Technological University, Kakinada comes under SRI VASAVI ENGINEERING COLLEGE.\n",
            "Query: year of esblihsment of above mentioned University\n",
            "\n",
            "Based on the data provided, it appears that the University mentioned is Karnataka University in Belgaum. However, the exact year of establishment is not explicitly mentioned in the data. To determine the year of establishment of Karnataka University in Belgaum, further research would be needed. This information can typically be found on the university's official website or through other reliable sources.\n",
            "Query: Address of the ADITYA ENGINEERING COLLEGE\n",
            "\n",
            "Aditya Engineering College is located at Aditya Nagar, Godavari Adb Road, Surampalem, Gandepalli Mandal, East Godavari District, Andhra Pradesh, Pin - 533 437.\n",
            "Query: Established year of BONAM VENKATACHALAMAYYA INSTITUTE OF  TECHNOLOGY & SCIENC\n",
            "\n",
            "The Established year of BONAM VENKATACHALAMAYYA INSTITUTE OF TECHNOLOGY & SCIENCE is 2002.\n",
            "Query: Coures offerd by PACE INSTITUTE OF TECHNOLOGY AND SCIENCES\n",
            "\n",
            "PACE INSTITUTE OF TECHNOLOGY AND SCIENCES offers courses in the following disciplines:\n",
            "1. Information Technology\n",
            "2. Computer Science and Engineering\n",
            "3. Mechanical Engineering\n",
            "4. Electrical and Electronics Engineering\n",
            "5. Electronics & Communication Engineering\n"
          ]
        }
      ],
      "source": [
        "import openai\n",
        "\n",
        "def generate_text(prompt):\n",
        "    response = openai.ChatCompletion.create(\n",
        "        model='gpt-3.5-turbo',\n",
        "        messages=[\n",
        "            {\"role\": \"user\", \"content\": prompt}\n",
        "        ]\n",
        "    )\n",
        "    return response['choices'][0]['message']['content']\n",
        "\n",
        "while True:\n",
        "  query = input()\n",
        "  if query not in ['exit','Exit']:\n",
        "    similar_chunks = find_similar_chunk(query, chunks, vectors)\n",
        "    print(f\"Query: {query}\\n\")\n",
        "\n",
        "    prompt = str(similar_chunks)+\"using this data answer this query\"+query\n",
        "    generated_text = generate_text(prompt)\n",
        "    print(generated_text)"
      ]
    }
  ],
  "metadata": {
    "colab": {
      "provenance": []
    },
    "kernelspec": {
      "display_name": "Python 3",
      "name": "python3"
    },
    "language_info": {
      "name": "python"
    }
  },
  "nbformat": 4,
  "nbformat_minor": 0
}